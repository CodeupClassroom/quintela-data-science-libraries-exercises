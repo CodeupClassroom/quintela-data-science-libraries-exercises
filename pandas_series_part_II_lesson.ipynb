{
 "cells": [
  {
   "cell_type": "markdown",
   "id": "8ad0f06e",
   "metadata": {},
   "source": [
    "# Pandas Series Part II Lesson"
   ]
  },
  {
   "cell_type": "code",
   "execution_count": 1,
   "id": "ac5e9fa4",
   "metadata": {},
   "outputs": [],
   "source": [
    "import pandas as pd"
   ]
  },
  {
   "cell_type": "markdown",
   "id": "1bf57497",
   "metadata": {},
   "source": [
    "<hr style=\"border:2px solid gray\">"
   ]
  },
  {
   "cell_type": "markdown",
   "id": "1604905f",
   "metadata": {},
   "source": [
    "In this lesson, we will be covering:\n",
    "- Subsetting\n",
    "- String Attributes ```.str()```\n",
    "    - ```.lower()```\n",
    "    - ```.replace()```\n",
    "    - ```.any()```\n",
    "    - ```.all()```\n",
    "    - ```.isin()```\n",
    "    - ```.apply()```"
   ]
  },
  {
   "cell_type": "markdown",
   "id": "4d83fd55",
   "metadata": {},
   "source": [
    "### Subsetting\n",
    "<b>Subsetting</b>: We can subset by label, index, or boolean sequences\n",
    "- We use subsetting if we only want to use a certain part of our series."
   ]
  },
  {
   "cell_type": "code",
   "execution_count": 2,
   "id": "403e4114",
   "metadata": {},
   "outputs": [
    {
     "data": {
      "text/plain": [
       "0     3\n",
       "1     1\n",
       "2     4\n",
       "3     1\n",
       "4     5\n",
       "5     9\n",
       "6     2\n",
       "7     6\n",
       "8     5\n",
       "9     3\n",
       "10    5\n",
       "dtype: int64"
      ]
     },
     "execution_count": 2,
     "metadata": {},
     "output_type": "execute_result"
    }
   ],
   "source": [
    "#create a series of numbers\n",
    "pi_series = pd.Series([3, 1, 4, 1, 5, 9, 2, 6, 5, 3, 5])\n",
    "\n",
    "#call that variable\n",
    "pi_series"
   ]
  },
  {
   "cell_type": "code",
   "execution_count": 3,
   "id": "dd6df414",
   "metadata": {},
   "outputs": [
    {
     "data": {
      "text/plain": [
       "0     False\n",
       "1     False\n",
       "2     False\n",
       "3     False\n",
       "4     False\n",
       "5      True\n",
       "6     False\n",
       "7      True\n",
       "8     False\n",
       "9     False\n",
       "10    False\n",
       "dtype: bool"
      ]
     },
     "execution_count": 3,
     "metadata": {},
     "output_type": "execute_result"
    }
   ],
   "source": [
    "#create a new variable\n",
    "##for any number in that series greater than 5\n",
    "booleans = pi_series > 5\n",
    "\n",
    "#return the boolean values\n",
    "booleans"
   ]
  },
  {
   "cell_type": "code",
   "execution_count": 4,
   "id": "4c2261e5",
   "metadata": {},
   "outputs": [
    {
     "data": {
      "text/plain": [
       "5    9\n",
       "7    6\n",
       "dtype: int64"
      ]
     },
     "execution_count": 4,
     "metadata": {},
     "output_type": "execute_result"
    }
   ],
   "source": [
    "#now, I'm saying- return to me \n",
    "##only the values that are true\n",
    "pi_series[booleans]"
   ]
  },
  {
   "cell_type": "markdown",
   "id": "ef134e54",
   "metadata": {},
   "source": [
    "We can make these statements different by narrowing or expanding our subsetting options."
   ]
  },
  {
   "cell_type": "markdown",
   "id": "4802f142",
   "metadata": {},
   "source": [
    "- The pipe ```|``` character is used to <b>or</b>\n",
    "- The ```&``` character is used for <b>and"
   ]
  },
  {
   "cell_type": "code",
   "execution_count": 5,
   "id": "68d81ceb",
   "metadata": {
    "scrolled": true
   },
   "outputs": [
    {
     "data": {
      "text/plain": [
       "2    4\n",
       "5    9\n",
       "6    2\n",
       "7    6\n",
       "dtype: int64"
      ]
     },
     "execution_count": 5,
     "metadata": {},
     "output_type": "execute_result"
    }
   ],
   "source": [
    "# Find the numbers that are even or greater than 5\n",
    "pi_series[(pi_series % 2 == 0) | (pi_series > 5)]"
   ]
  },
  {
   "cell_type": "code",
   "execution_count": 7,
   "id": "7f67acbc",
   "metadata": {},
   "outputs": [
    {
     "data": {
      "text/plain": [
       "7    6\n",
       "dtype: int64"
      ]
     },
     "execution_count": 7,
     "metadata": {},
     "output_type": "execute_result"
    }
   ],
   "source": [
    "#using and\n",
    "pi_series[(pi_series % 2 == 0) & (pi_series > 5)]"
   ]
  },
  {
   "cell_type": "markdown",
   "id": "63d81825",
   "metadata": {},
   "source": [
    "What if we did not want to use parentheses?"
   ]
  },
  {
   "cell_type": "code",
   "execution_count": 9,
   "id": "83925bb6",
   "metadata": {
    "scrolled": true
   },
   "outputs": [
    {
     "data": {
      "text/plain": [
       "2    4\n",
       "5    9\n",
       "6    2\n",
       "7    6\n",
       "dtype: int64"
      ]
     },
     "execution_count": 9,
     "metadata": {},
     "output_type": "execute_result"
    }
   ],
   "source": [
    "#assign even variable\n",
    "is_even = pi_series % 2 == 0\n",
    "\n",
    "#assign greater than five variable\n",
    "greater_than_five = pi_series > 5\n",
    "\n",
    "#use the | to say either, or\n",
    "pi_series[is_even | greater_than_five]"
   ]
  },
  {
   "cell_type": "markdown",
   "id": "9b8b096d",
   "metadata": {},
   "source": [
    "As we can see, we get the same output as above."
   ]
  },
  {
   "cell_type": "markdown",
   "id": "2d260f4c",
   "metadata": {},
   "source": [
    "<hr style=\"border:1px solid black\">"
   ]
  },
  {
   "cell_type": "markdown",
   "id": "d12d555f",
   "metadata": {},
   "source": [
    "## The ```.str``` Attribute"
   ]
  },
  {
   "cell_type": "code",
   "execution_count": 10,
   "id": "5d838120",
   "metadata": {},
   "outputs": [],
   "source": [
    "#define the series of ds instructors\n",
    "ds_team_series = pd.Series(['Adam', 'Amanda', 'Andrew','Brooke', 'John', 'John', \n",
    "                            'Madeleine','Margaret', 'Misty', 'Ryan', 'Tasha', \n",
    "                           ])"
   ]
  },
  {
   "cell_type": "markdown",
   "id": "6716eddd",
   "metadata": {},
   "source": [
    "### ```.lower()```"
   ]
  },
  {
   "cell_type": "code",
   "execution_count": 11,
   "id": "a9a7860e",
   "metadata": {
    "scrolled": true
   },
   "outputs": [
    {
     "data": {
      "text/plain": [
       "0          adam\n",
       "1        amanda\n",
       "2        andrew\n",
       "3        brooke\n",
       "4          john\n",
       "5          john\n",
       "6     madeleine\n",
       "7      margaret\n",
       "8         misty\n",
       "9          ryan\n",
       "10        tasha\n",
       "dtype: object"
      ]
     },
     "execution_count": 11,
     "metadata": {},
     "output_type": "execute_result"
    }
   ],
   "source": [
    "ds_team_series.str.lower()"
   ]
  },
  {
   "cell_type": "code",
   "execution_count": 12,
   "id": "c1eae465",
   "metadata": {},
   "outputs": [
    {
     "data": {
      "text/plain": [
       "0       Hello\n",
       "1      CodeuP\n",
       "2    StUDenTs\n",
       "dtype: object"
      ]
     },
     "execution_count": 12,
     "metadata": {},
     "output_type": "execute_result"
    }
   ],
   "source": [
    "#assign a new series\n",
    "string_series = pd.Series(['Hello', 'CodeuP', 'StUDenTs'])\n",
    "\n",
    "#take a look\n",
    "string_series"
   ]
  },
  {
   "cell_type": "code",
   "execution_count": 13,
   "id": "4479c992",
   "metadata": {},
   "outputs": [
    {
     "data": {
      "text/plain": [
       "0       hello\n",
       "1      codeup\n",
       "2    students\n",
       "dtype: object"
      ]
     },
     "execution_count": 13,
     "metadata": {},
     "output_type": "execute_result"
    }
   ],
   "source": [
    "#we can even lowercase if it's not the first letter\n",
    "string_series.str.lower()"
   ]
  },
  {
   "cell_type": "markdown",
   "id": "a4729236",
   "metadata": {},
   "source": [
    "<hr style=\"border:1px solid grey\">"
   ]
  },
  {
   "cell_type": "markdown",
   "id": "e360f8a4",
   "metadata": {},
   "source": [
    "### ```.replace()```"
   ]
  },
  {
   "cell_type": "code",
   "execution_count": 14,
   "id": "ef2114b9",
   "metadata": {},
   "outputs": [
    {
     "data": {
      "text/plain": [
       "0          Adam\n",
       "1        Amanda\n",
       "2        Andrew\n",
       "3        Brooke\n",
       "4          John\n",
       "5          John\n",
       "6     Madeleine\n",
       "7      Margaret\n",
       "8         Misty\n",
       "9          Ryan\n",
       "10        Tasha\n",
       "dtype: object"
      ]
     },
     "execution_count": 14,
     "metadata": {},
     "output_type": "execute_result"
    }
   ],
   "source": [
    "ds_team_series"
   ]
  },
  {
   "cell_type": "code",
   "execution_count": 15,
   "id": "ab45fee8",
   "metadata": {},
   "outputs": [
    {
     "data": {
      "text/plain": [
       "0          Adam\n",
       "1        Amanda\n",
       "2        Andrew\n",
       "3        Brooke\n",
       "4          John\n",
       "5          John\n",
       "6     Madeleine\n",
       "7        Maggie\n",
       "8         Misty\n",
       "9          Ryan\n",
       "10        Tasha\n",
       "dtype: object"
      ]
     },
     "execution_count": 15,
     "metadata": {},
     "output_type": "execute_result"
    }
   ],
   "source": [
    "ds_team_series = ds_team_series.str.replace('rgaret', 'ggie')\n",
    "\n",
    "ds_team_series"
   ]
  },
  {
   "cell_type": "code",
   "execution_count": 16,
   "id": "44dc22bb",
   "metadata": {
    "scrolled": false
   },
   "outputs": [
    {
     "data": {
      "text/plain": [
       "0       H_llo\n",
       "1      Cod_uP\n",
       "2    StUD_nTs\n",
       "dtype: object"
      ]
     },
     "execution_count": 16,
     "metadata": {},
     "output_type": "execute_result"
    }
   ],
   "source": [
    "#replace all the e's with _\n",
    "string_series.str.replace('e', '_')"
   ]
  },
  {
   "cell_type": "markdown",
   "id": "fb7e1a2c",
   "metadata": {},
   "source": [
    "<hr style=\"border:1px solid grey\">"
   ]
  },
  {
   "cell_type": "markdown",
   "id": "0d11aeeb",
   "metadata": {},
   "source": [
    "### Chaining methods"
   ]
  },
  {
   "cell_type": "markdown",
   "id": "bcc9f2f0",
   "metadata": {},
   "source": [
    "<b>We can also link methods together in a series!"
   ]
  },
  {
   "cell_type": "code",
   "execution_count": 17,
   "id": "816acc60",
   "metadata": {},
   "outputs": [
    {
     "data": {
      "text/plain": [
       "0       Hello\n",
       "1      CodeuP\n",
       "2    StUDenTs\n",
       "dtype: object"
      ]
     },
     "execution_count": 17,
     "metadata": {},
     "output_type": "execute_result"
    }
   ],
   "source": [
    "#assign a new series\n",
    "string_series = pd.Series(['Hello', 'CodeuP', 'StUDenTs'])\n",
    "string_series"
   ]
  },
  {
   "cell_type": "code",
   "execution_count": 20,
   "id": "02b68270",
   "metadata": {
    "scrolled": true
   },
   "outputs": [
    {
     "data": {
      "text/plain": [
       "0       h_llo\n",
       "1      cod_up\n",
       "2    stud_nts\n",
       "dtype: object"
      ]
     },
     "execution_count": 20,
     "metadata": {},
     "output_type": "execute_result"
    }
   ],
   "source": [
    "#lowercase AND replace\n",
    "string_series.str.lower().str.replace('e', '_')"
   ]
  },
  {
   "cell_type": "markdown",
   "id": "377afa40",
   "metadata": {},
   "source": [
    "<b>We can even use method chaining and indexing!"
   ]
  },
  {
   "cell_type": "markdown",
   "id": "deee48e4",
   "metadata": {},
   "source": [
    "<hr style=\"border:1px solid grey\">"
   ]
  },
  {
   "cell_type": "markdown",
   "id": "e72446bb",
   "metadata": {},
   "source": [
    "## More Series Methods"
   ]
  },
  {
   "cell_type": "markdown",
   "id": "8dc4290a",
   "metadata": {},
   "source": [
    "### ```any()```\n",
    "returns a single boolean...do <b>any</b> values in the series meet the condition"
   ]
  },
  {
   "cell_type": "code",
   "execution_count": 22,
   "id": "6d01db06",
   "metadata": {},
   "outputs": [
    {
     "data": {
      "text/plain": [
       "0     3\n",
       "1     1\n",
       "2     4\n",
       "3     1\n",
       "4     5\n",
       "5     9\n",
       "6     2\n",
       "7     6\n",
       "8     5\n",
       "9     3\n",
       "10    5\n",
       "dtype: int64"
      ]
     },
     "execution_count": 22,
     "metadata": {},
     "output_type": "execute_result"
    }
   ],
   "source": [
    "pi_series"
   ]
  },
  {
   "cell_type": "code",
   "execution_count": 21,
   "id": "4da7ad40",
   "metadata": {},
   "outputs": [
    {
     "data": {
      "text/plain": [
       "True"
      ]
     },
     "execution_count": 21,
     "metadata": {},
     "output_type": "execute_result"
    }
   ],
   "source": [
    "(pi_series > 3).any()"
   ]
  },
  {
   "cell_type": "markdown",
   "id": "58887ce0",
   "metadata": {},
   "source": [
    "### ```all()```\n",
    "returns a single boolean...do <b>all</b> values in the series meet the condition?"
   ]
  },
  {
   "cell_type": "code",
   "execution_count": 23,
   "id": "ec867e3f",
   "metadata": {},
   "outputs": [
    {
     "data": {
      "text/plain": [
       "False"
      ]
     },
     "execution_count": 23,
     "metadata": {},
     "output_type": "execute_result"
    }
   ],
   "source": [
    "(pi_series > 3).all()"
   ]
  },
  {
   "cell_type": "markdown",
   "id": "04948020",
   "metadata": {},
   "source": [
    "### ```.isin()```\n",
    "comparing string of each item in series to a list of strings. Is the string in your series found in the list of strings? Returns a series of boolean values."
   ]
  },
  {
   "cell_type": "code",
   "execution_count": 24,
   "id": "93f1fff6",
   "metadata": {},
   "outputs": [
    {
     "data": {
      "text/plain": [
       "['a', 'e', 'i', 'o', 'u', 'y']"
      ]
     },
     "execution_count": 24,
     "metadata": {},
     "output_type": "execute_result"
    }
   ],
   "source": [
    "# Use `isin()` to tell whether each value is in a set of known values. \n",
    "vowels = list('aeiouy')\n",
    "vowels"
   ]
  },
  {
   "cell_type": "code",
   "execution_count": 25,
   "id": "0a2ee434",
   "metadata": {},
   "outputs": [
    {
     "data": {
      "text/plain": [
       "['a',\n",
       " 'b',\n",
       " 'c',\n",
       " 'd',\n",
       " 'e',\n",
       " 'f',\n",
       " 'g',\n",
       " 'h',\n",
       " 'i',\n",
       " 'j',\n",
       " 'k',\n",
       " 'e',\n",
       " 'l',\n",
       " 'i',\n",
       " 'm',\n",
       " 'i',\n",
       " 'n',\n",
       " 'n',\n",
       " 'o',\n",
       " 'w']"
      ]
     },
     "execution_count": 25,
     "metadata": {},
     "output_type": "execute_result"
    }
   ],
   "source": [
    "#create a list of letters\n",
    "letters = list('abcdefghijkeliminnow')\n",
    "letters"
   ]
  },
  {
   "cell_type": "code",
   "execution_count": 26,
   "id": "cf5237f8",
   "metadata": {},
   "outputs": [
    {
     "data": {
      "text/plain": [
       "0     a\n",
       "1     b\n",
       "2     c\n",
       "3     d\n",
       "4     e\n",
       "5     f\n",
       "6     g\n",
       "7     h\n",
       "8     i\n",
       "9     j\n",
       "10    k\n",
       "11    e\n",
       "12    l\n",
       "13    i\n",
       "14    m\n",
       "15    i\n",
       "16    n\n",
       "17    n\n",
       "18    o\n",
       "19    w\n",
       "dtype: object"
      ]
     },
     "execution_count": 26,
     "metadata": {},
     "output_type": "execute_result"
    }
   ],
   "source": [
    "#turn that into a series\n",
    "letter_series = pd.Series(letters)\n",
    "letter_series"
   ]
  },
  {
   "cell_type": "code",
   "execution_count": 27,
   "id": "7ed4d50b",
   "metadata": {},
   "outputs": [
    {
     "data": {
      "text/plain": [
       "False    13\n",
       "True      7\n",
       "dtype: int64"
      ]
     },
     "execution_count": 27,
     "metadata": {},
     "output_type": "execute_result"
    }
   ],
   "source": [
    "#is that letter a vowel, count how many\n",
    "#we have 7 vowels and 13 others\n",
    "letter_series.isin(vowels).value_counts()"
   ]
  },
  {
   "cell_type": "markdown",
   "id": "8efe049d",
   "metadata": {},
   "source": [
    "### ```.apply()```\n",
    "apply a function to each item in a series.\n",
    "- define the function -> series.apply(fcn)\n",
    "- using a lambda: series.apply(lambda n: )\n",
    "\n",
    "Define the function the .apply(your_function)"
   ]
  },
  {
   "cell_type": "markdown",
   "id": "ce3c8087",
   "metadata": {},
   "source": [
    "Below we define a function, even_or_odd, then reference that function when we call .apply. Notice that when we reference the even_or_odd function, we are not calling the function, rather, we are passing the even_or_odd function itself to the .apply method as an argument, which pandas will then call on every element of the Series."
   ]
  },
  {
   "cell_type": "code",
   "execution_count": 28,
   "id": "a98e4d81",
   "metadata": {},
   "outputs": [
    {
     "data": {
      "text/plain": [
       "0      odd\n",
       "1      odd\n",
       "2     even\n",
       "3      odd\n",
       "4      odd\n",
       "5      odd\n",
       "6     even\n",
       "7     even\n",
       "8      odd\n",
       "9      odd\n",
       "10     odd\n",
       "dtype: object"
      ]
     },
     "execution_count": 28,
     "metadata": {},
     "output_type": "execute_result"
    }
   ],
   "source": [
    "def even_or_odd(n):\n",
    "    '''\n",
    "    this function takes a number and returns a string indicating \n",
    "    whether the passed number is even or odd\n",
    "    '''\n",
    "    if n % 2 == 0:\n",
    "        return 'even'\n",
    "    else:\n",
    "        return 'odd'\n",
    "\n",
    "pi_series.apply(even_or_odd)"
   ]
  },
  {
   "cell_type": "markdown",
   "id": "2913b95e",
   "metadata": {},
   "source": [
    "<b>Using a lambda instead</b>\n",
    "- It is also very common to see lambda functions used along with ```.apply()```. We could re-write the above example with a lambda function like so:"
   ]
  },
  {
   "cell_type": "code",
   "execution_count": 29,
   "id": "4a507978",
   "metadata": {},
   "outputs": [
    {
     "data": {
      "text/plain": [
       "0      odd\n",
       "1      odd\n",
       "2     even\n",
       "3      odd\n",
       "4      odd\n",
       "5      odd\n",
       "6     even\n",
       "7     even\n",
       "8      odd\n",
       "9      odd\n",
       "10     odd\n",
       "dtype: object"
      ]
     },
     "execution_count": 29,
     "metadata": {},
     "output_type": "execute_result"
    }
   ],
   "source": [
    "pi_series.apply(lambda n: 'even' if n % 2 == 0 else 'odd')"
   ]
  }
 ],
 "metadata": {
  "kernelspec": {
   "display_name": "Python 3 (ipykernel)",
   "language": "python",
   "name": "python3"
  },
  "language_info": {
   "codemirror_mode": {
    "name": "ipython",
    "version": 3
   },
   "file_extension": ".py",
   "mimetype": "text/x-python",
   "name": "python",
   "nbconvert_exporter": "python",
   "pygments_lexer": "ipython3",
   "version": "3.9.13"
  }
 },
 "nbformat": 4,
 "nbformat_minor": 5
}
