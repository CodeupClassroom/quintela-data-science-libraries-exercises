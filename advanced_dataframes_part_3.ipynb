{
 "cells": [
  {
   "cell_type": "code",
   "execution_count": 1,
   "id": "44a30697-2f16-4714-a0dc-96fa1e4e667f",
   "metadata": {},
   "outputs": [],
   "source": [
    "import pandas as pd\n",
    "import numpy as np\n",
    "\n",
    "np.random.seed(1349)"
   ]
  },
  {
   "cell_type": "code",
   "execution_count": 2,
   "id": "13818306-6e45-4ca3-8434-b670e60a4612",
   "metadata": {},
   "outputs": [],
   "source": [
    "df = pd.read_csv('students.csv', index_col=0)"
   ]
  },
  {
   "cell_type": "markdown",
   "id": "c2f9bb2e-c705-45a3-a916-e6a51e8408ee",
   "metadata": {},
   "source": [
    "## Reshaping\n",
    "\n",
    "We will talk about reshaping operations in more detail when we discuss tidy data, but for now we will focus on a couple of common operations that can be used to summarize our data by different subgroups."
   ]
  },
  {
   "cell_type": "markdown",
   "id": "26d338d6-43fd-477d-bad1-7f87457189dd",
   "metadata": {},
   "source": [
    "### `pd.crosstab`\n",
    "\n",
    "For an example of `.crosstab`, we will count the number of students passing math in each classroom."
   ]
  },
  {
   "cell_type": "code",
   "execution_count": 3,
   "id": "46c0ac8d-8187-4f1a-94f9-9809eab2e303",
   "metadata": {},
   "outputs": [
    {
     "data": {
      "text/html": [
       "<div>\n",
       "<style scoped>\n",
       "    .dataframe tbody tr th:only-of-type {\n",
       "        vertical-align: middle;\n",
       "    }\n",
       "\n",
       "    .dataframe tbody tr th {\n",
       "        vertical-align: top;\n",
       "    }\n",
       "\n",
       "    .dataframe thead th {\n",
       "        text-align: right;\n",
       "    }\n",
       "</style>\n",
       "<table border=\"1\" class=\"dataframe\">\n",
       "  <thead>\n",
       "    <tr style=\"text-align: right;\">\n",
       "      <th></th>\n",
       "      <th>name</th>\n",
       "      <th>math</th>\n",
       "      <th>english</th>\n",
       "      <th>reading</th>\n",
       "      <th>classroom</th>\n",
       "    </tr>\n",
       "  </thead>\n",
       "  <tbody>\n",
       "    <tr>\n",
       "      <th>0</th>\n",
       "      <td>Martyn</td>\n",
       "      <td>78</td>\n",
       "      <td>69</td>\n",
       "      <td>84</td>\n",
       "      <td>B</td>\n",
       "    </tr>\n",
       "    <tr>\n",
       "      <th>1</th>\n",
       "      <td>Myatta</td>\n",
       "      <td>70</td>\n",
       "      <td>71</td>\n",
       "      <td>88</td>\n",
       "      <td>B</td>\n",
       "    </tr>\n",
       "    <tr>\n",
       "      <th>2</th>\n",
       "      <td>Alyx</td>\n",
       "      <td>76</td>\n",
       "      <td>62</td>\n",
       "      <td>71</td>\n",
       "      <td>B</td>\n",
       "    </tr>\n",
       "    <tr>\n",
       "      <th>3</th>\n",
       "      <td>Deryk</td>\n",
       "      <td>98</td>\n",
       "      <td>92</td>\n",
       "      <td>72</td>\n",
       "      <td>B</td>\n",
       "    </tr>\n",
       "    <tr>\n",
       "      <th>4</th>\n",
       "      <td>Jaryd</td>\n",
       "      <td>94</td>\n",
       "      <td>79</td>\n",
       "      <td>82</td>\n",
       "      <td>B</td>\n",
       "    </tr>\n",
       "  </tbody>\n",
       "</table>\n",
       "</div>"
      ],
      "text/plain": [
       "     name  math  english  reading classroom\n",
       "0  Martyn    78       69       84         B\n",
       "1  Myatta    70       71       88         B\n",
       "2    Alyx    76       62       71         B\n",
       "3   Deryk    98       92       72         B\n",
       "4   Jaryd    94       79       82         B"
      ]
     },
     "execution_count": 3,
     "metadata": {},
     "output_type": "execute_result"
    }
   ],
   "source": [
    "df.head()"
   ]
  },
  {
   "cell_type": "code",
   "execution_count": 4,
   "id": "629d04e8-7b41-4698-a4c6-51e89a540771",
   "metadata": {},
   "outputs": [],
   "source": [
    "df['passing_math'] = np.where(df.math >=70, 'passing', 'failing')"
   ]
  },
  {
   "cell_type": "code",
   "execution_count": 5,
   "id": "2608a646-576b-47f1-8fc3-052c8c4b96eb",
   "metadata": {},
   "outputs": [
    {
     "data": {
      "text/plain": [
       "0     passing\n",
       "1     passing\n",
       "2     passing\n",
       "3     passing\n",
       "4     passing\n",
       "5     passing\n",
       "6     passing\n",
       "7     passing\n",
       "8     failing\n",
       "9     passing\n",
       "10    passing\n",
       "11    passing\n",
       "Name: passing_math, dtype: object"
      ]
     },
     "execution_count": 5,
     "metadata": {},
     "output_type": "execute_result"
    }
   ],
   "source": [
    "df.passing_math"
   ]
  },
  {
   "cell_type": "code",
   "execution_count": 6,
   "id": "7cf163cf-3eb6-4d53-beb9-6167a33ab30b",
   "metadata": {},
   "outputs": [
    {
     "data": {
      "text/plain": [
       "0     B\n",
       "1     B\n",
       "2     B\n",
       "3     B\n",
       "4     B\n",
       "5     B\n",
       "6     A\n",
       "7     B\n",
       "8     A\n",
       "9     A\n",
       "10    B\n",
       "11    B\n",
       "Name: classroom, dtype: object"
      ]
     },
     "execution_count": 6,
     "metadata": {},
     "output_type": "execute_result"
    }
   ],
   "source": [
    "df.classroom"
   ]
  },
  {
   "cell_type": "code",
   "execution_count": 7,
   "id": "89380091-2493-4adc-9009-e78972f85028",
   "metadata": {},
   "outputs": [
    {
     "data": {
      "text/plain": [
       "B    9\n",
       "A    3\n",
       "Name: classroom, dtype: int64"
      ]
     },
     "execution_count": 7,
     "metadata": {},
     "output_type": "execute_result"
    }
   ],
   "source": [
    "df.classroom.value_counts()"
   ]
  },
  {
   "cell_type": "code",
   "execution_count": 8,
   "id": "9f68c8fa-1211-44bd-abe9-ca992ef03c37",
   "metadata": {},
   "outputs": [
    {
     "data": {
      "text/plain": [
       "passing    11\n",
       "failing     1\n",
       "Name: passing_math, dtype: int64"
      ]
     },
     "execution_count": 8,
     "metadata": {},
     "output_type": "execute_result"
    }
   ],
   "source": [
    "df.passing_math.value_counts()"
   ]
  },
  {
   "cell_type": "code",
   "execution_count": 9,
   "id": "e4f14d63-74eb-48aa-9fe1-e3dc0cd7a166",
   "metadata": {},
   "outputs": [],
   "source": [
    "#  cant do this : df.crosstab(df.passing_math, df.classroom)"
   ]
  },
  {
   "cell_type": "code",
   "execution_count": 10,
   "id": "9b221fcd-3a62-40a3-93e3-bb3d78e8af75",
   "metadata": {},
   "outputs": [
    {
     "data": {
      "text/html": [
       "<div>\n",
       "<style scoped>\n",
       "    .dataframe tbody tr th:only-of-type {\n",
       "        vertical-align: middle;\n",
       "    }\n",
       "\n",
       "    .dataframe tbody tr th {\n",
       "        vertical-align: top;\n",
       "    }\n",
       "\n",
       "    .dataframe thead th {\n",
       "        text-align: right;\n",
       "    }\n",
       "</style>\n",
       "<table border=\"1\" class=\"dataframe\">\n",
       "  <thead>\n",
       "    <tr style=\"text-align: right;\">\n",
       "      <th>passing_math</th>\n",
       "      <th>failing</th>\n",
       "      <th>passing</th>\n",
       "    </tr>\n",
       "    <tr>\n",
       "      <th>classroom</th>\n",
       "      <th></th>\n",
       "      <th></th>\n",
       "    </tr>\n",
       "  </thead>\n",
       "  <tbody>\n",
       "    <tr>\n",
       "      <th>A</th>\n",
       "      <td>1</td>\n",
       "      <td>2</td>\n",
       "    </tr>\n",
       "    <tr>\n",
       "      <th>B</th>\n",
       "      <td>0</td>\n",
       "      <td>9</td>\n",
       "    </tr>\n",
       "  </tbody>\n",
       "</table>\n",
       "</div>"
      ],
      "text/plain": [
       "passing_math  failing  passing\n",
       "classroom                     \n",
       "A                   1        2\n",
       "B                   0        9"
      ]
     },
     "execution_count": 10,
     "metadata": {},
     "output_type": "execute_result"
    }
   ],
   "source": [
    "# We will use our student grades DataFrame, df.\n",
    "pd.crosstab(df.classroom, df.passing_math)\n"
   ]
  },
  {
   "cell_type": "markdown",
   "id": "ef755804-a636-4b5d-8ed2-ea06de36a9cd",
   "metadata": {},
   "source": [
    "We'll use the `pd.crosstab` function to count the number of occurances of each subgroup (i.e. each unique combination of classroom and whether or not the student is passing math):"
   ]
  },
  {
   "cell_type": "markdown",
   "id": "2d5cf129-32d8-4c40-b763-aeec8509b467",
   "metadata": {},
   "source": [
    "We can also view subtotals with the `margins` set to `True`."
   ]
  },
  {
   "cell_type": "code",
   "execution_count": 11,
   "id": "d7cb6533-fa68-4014-a09e-453f409db05f",
   "metadata": {},
   "outputs": [
    {
     "data": {
      "text/html": [
       "<div>\n",
       "<style scoped>\n",
       "    .dataframe tbody tr th:only-of-type {\n",
       "        vertical-align: middle;\n",
       "    }\n",
       "\n",
       "    .dataframe tbody tr th {\n",
       "        vertical-align: top;\n",
       "    }\n",
       "\n",
       "    .dataframe thead th {\n",
       "        text-align: right;\n",
       "    }\n",
       "</style>\n",
       "<table border=\"1\" class=\"dataframe\">\n",
       "  <thead>\n",
       "    <tr style=\"text-align: right;\">\n",
       "      <th>passing_math</th>\n",
       "      <th>failing</th>\n",
       "      <th>passing</th>\n",
       "      <th>All</th>\n",
       "    </tr>\n",
       "    <tr>\n",
       "      <th>classroom</th>\n",
       "      <th></th>\n",
       "      <th></th>\n",
       "      <th></th>\n",
       "    </tr>\n",
       "  </thead>\n",
       "  <tbody>\n",
       "    <tr>\n",
       "      <th>A</th>\n",
       "      <td>1</td>\n",
       "      <td>2</td>\n",
       "      <td>3</td>\n",
       "    </tr>\n",
       "    <tr>\n",
       "      <th>B</th>\n",
       "      <td>0</td>\n",
       "      <td>9</td>\n",
       "      <td>9</td>\n",
       "    </tr>\n",
       "    <tr>\n",
       "      <th>All</th>\n",
       "      <td>1</td>\n",
       "      <td>11</td>\n",
       "      <td>12</td>\n",
       "    </tr>\n",
       "  </tbody>\n",
       "</table>\n",
       "</div>"
      ],
      "text/plain": [
       "passing_math  failing  passing  All\n",
       "classroom                          \n",
       "A                   1        2    3\n",
       "B                   0        9    9\n",
       "All                 1       11   12"
      ]
     },
     "execution_count": 11,
     "metadata": {},
     "output_type": "execute_result"
    }
   ],
   "source": [
    "pd.crosstab(df.classroom, df.passing_math, margins=True)\n"
   ]
  },
  {
   "cell_type": "markdown",
   "id": "f8d6d9fb-9b83-4b8c-aa8e-9dcf1ed0fcb7",
   "metadata": {},
   "source": [
    "The `.crosstab` function will let us view the numbers as percentages of the total as well by setting `normalize` to `True`."
   ]
  },
  {
   "cell_type": "code",
   "execution_count": 12,
   "id": "3cc7f284-f01b-4725-abb8-4b14e26afa13",
   "metadata": {},
   "outputs": [
    {
     "data": {
      "text/html": [
       "<div>\n",
       "<style scoped>\n",
       "    .dataframe tbody tr th:only-of-type {\n",
       "        vertical-align: middle;\n",
       "    }\n",
       "\n",
       "    .dataframe tbody tr th {\n",
       "        vertical-align: top;\n",
       "    }\n",
       "\n",
       "    .dataframe thead th {\n",
       "        text-align: right;\n",
       "    }\n",
       "</style>\n",
       "<table border=\"1\" class=\"dataframe\">\n",
       "  <thead>\n",
       "    <tr style=\"text-align: right;\">\n",
       "      <th>passing_math</th>\n",
       "      <th>failing</th>\n",
       "      <th>passing</th>\n",
       "      <th>All</th>\n",
       "    </tr>\n",
       "    <tr>\n",
       "      <th>classroom</th>\n",
       "      <th></th>\n",
       "      <th></th>\n",
       "      <th></th>\n",
       "    </tr>\n",
       "  </thead>\n",
       "  <tbody>\n",
       "    <tr>\n",
       "      <th>A</th>\n",
       "      <td>0.083333</td>\n",
       "      <td>0.166667</td>\n",
       "      <td>0.25</td>\n",
       "    </tr>\n",
       "    <tr>\n",
       "      <th>B</th>\n",
       "      <td>0.000000</td>\n",
       "      <td>0.750000</td>\n",
       "      <td>0.75</td>\n",
       "    </tr>\n",
       "    <tr>\n",
       "      <th>All</th>\n",
       "      <td>0.083333</td>\n",
       "      <td>0.916667</td>\n",
       "      <td>1.00</td>\n",
       "    </tr>\n",
       "  </tbody>\n",
       "</table>\n",
       "</div>"
      ],
      "text/plain": [
       "passing_math   failing   passing   All\n",
       "classroom                             \n",
       "A             0.083333  0.166667  0.25\n",
       "B             0.000000  0.750000  0.75\n",
       "All           0.083333  0.916667  1.00"
      ]
     },
     "execution_count": 12,
     "metadata": {},
     "output_type": "execute_result"
    }
   ],
   "source": [
    "pd.crosstab(df.classroom, df.passing_math, margins=True, normalize=True)"
   ]
  },
  {
   "cell_type": "code",
   "execution_count": 13,
   "id": "de24f314-a001-407a-ba38-0749d006e001",
   "metadata": {},
   "outputs": [],
   "source": [
    "# crosstab will give you everything counted between the intersection of two different\n",
    "# categorical variables in a dataframe"
   ]
  },
  {
   "cell_type": "markdown",
   "id": "6c21ef09-bb59-45f9-a7da-2080702196de",
   "metadata": {},
   "source": [
    "### `.pivot_table`\n",
    "\n",
    "Here we use the `.pivot_table` method to create our summary. This method produces output similar to an excel pivot table. We must supply 3 things here:\n",
    "\n",
    "- which values will make up the rows (the `index`)\n",
    "- which values will make up the columns\n",
    "- the values we are aggregating\n",
    "- an aggregation method (`aggfunc`); if we can omit this, and `mean` will be used by default\n",
    "\n",
    "For an example using the `pivot_table` method, we'll calculate the average math grade for the combination of `classroom` and `passing_math` status."
   ]
  },
  {
   "cell_type": "code",
   "execution_count": 14,
   "id": "5fd8ac20-622b-44a3-bdb5-822e39b8e3bd",
   "metadata": {},
   "outputs": [],
   "source": [
    "pd.DataFrame.pivot_table?"
   ]
  },
  {
   "cell_type": "code",
   "execution_count": 15,
   "id": "bbb7f3f0-e9af-4627-b7bf-743b0db17e24",
   "metadata": {},
   "outputs": [
    {
     "data": {
      "text/html": [
       "<div>\n",
       "<style scoped>\n",
       "    .dataframe tbody tr th:only-of-type {\n",
       "        vertical-align: middle;\n",
       "    }\n",
       "\n",
       "    .dataframe tbody tr th {\n",
       "        vertical-align: top;\n",
       "    }\n",
       "\n",
       "    .dataframe thead th {\n",
       "        text-align: right;\n",
       "    }\n",
       "</style>\n",
       "<table border=\"1\" class=\"dataframe\">\n",
       "  <thead>\n",
       "    <tr style=\"text-align: right;\">\n",
       "      <th>passing_math</th>\n",
       "      <th>failing</th>\n",
       "      <th>passing</th>\n",
       "    </tr>\n",
       "    <tr>\n",
       "      <th>classroom</th>\n",
       "      <th></th>\n",
       "      <th></th>\n",
       "    </tr>\n",
       "  </thead>\n",
       "  <tbody>\n",
       "    <tr>\n",
       "      <th>A</th>\n",
       "      <td>62.0</td>\n",
       "      <td>97.0</td>\n",
       "    </tr>\n",
       "    <tr>\n",
       "      <th>B</th>\n",
       "      <td>NaN</td>\n",
       "      <td>98.0</td>\n",
       "    </tr>\n",
       "  </tbody>\n",
       "</table>\n",
       "</div>"
      ],
      "text/plain": [
       "passing_math  failing  passing\n",
       "classroom                     \n",
       "A                62.0     97.0\n",
       "B                 NaN     98.0"
      ]
     },
     "execution_count": 15,
     "metadata": {},
     "output_type": "execute_result"
    }
   ],
   "source": [
    "df.pivot_table(index='classroom', columns='passing_math', values='math', aggfunc='max')"
   ]
  },
  {
   "cell_type": "code",
   "execution_count": 16,
   "id": "4e96aeb6-1615-4f54-a59c-284047ce9a57",
   "metadata": {},
   "outputs": [
    {
     "data": {
      "text/plain": [
       "passing_math  classroom\n",
       "failing       A            62\n",
       "passing       A            97\n",
       "              B            98\n",
       "Name: math, dtype: int64"
      ]
     },
     "execution_count": 16,
     "metadata": {},
     "output_type": "execute_result"
    }
   ],
   "source": [
    "df.groupby(['passing_math', 'classroom']).math.max()"
   ]
  },
  {
   "cell_type": "markdown",
   "id": "cdf053cc-1f7b-4374-a93e-e88a31929fa3",
   "metadata": {},
   "source": [
    "Here we'll create a dataframe that represents various orders at a restaurant."
   ]
  },
  {
   "cell_type": "code",
   "execution_count": 17,
   "id": "73da575a-2d67-4ad8-b85f-d8bc09270623",
   "metadata": {},
   "outputs": [
    {
     "data": {
      "text/html": [
       "<div>\n",
       "<style scoped>\n",
       "    .dataframe tbody tr th:only-of-type {\n",
       "        vertical-align: middle;\n",
       "    }\n",
       "\n",
       "    .dataframe tbody tr th {\n",
       "        vertical-align: top;\n",
       "    }\n",
       "\n",
       "    .dataframe thead th {\n",
       "        text-align: right;\n",
       "    }\n",
       "</style>\n",
       "<table border=\"1\" class=\"dataframe\">\n",
       "  <thead>\n",
       "    <tr style=\"text-align: right;\">\n",
       "      <th></th>\n",
       "      <th>drink</th>\n",
       "      <th>meal</th>\n",
       "    </tr>\n",
       "  </thead>\n",
       "  <tbody>\n",
       "    <tr>\n",
       "      <th>26</th>\n",
       "      <td>Water</td>\n",
       "      <td>Yakisoba Noodle</td>\n",
       "    </tr>\n",
       "    <tr>\n",
       "      <th>19</th>\n",
       "      <td>Water</td>\n",
       "      <td>Curry</td>\n",
       "    </tr>\n",
       "    <tr>\n",
       "      <th>17</th>\n",
       "      <td>Water</td>\n",
       "      <td>Curry</td>\n",
       "    </tr>\n",
       "    <tr>\n",
       "      <th>27</th>\n",
       "      <td>Water</td>\n",
       "      <td>Curry</td>\n",
       "    </tr>\n",
       "    <tr>\n",
       "      <th>7</th>\n",
       "      <td>Water</td>\n",
       "      <td>Pad Thai</td>\n",
       "    </tr>\n",
       "    <tr>\n",
       "      <th>2</th>\n",
       "      <td>Water</td>\n",
       "      <td>Pad Thai</td>\n",
       "    </tr>\n",
       "    <tr>\n",
       "      <th>29</th>\n",
       "      <td>Water</td>\n",
       "      <td>Pad Thai</td>\n",
       "    </tr>\n",
       "    <tr>\n",
       "      <th>33</th>\n",
       "      <td>Water</td>\n",
       "      <td>Yakisoba Noodle</td>\n",
       "    </tr>\n",
       "    <tr>\n",
       "      <th>37</th>\n",
       "      <td>Tea</td>\n",
       "      <td>Yakisoba Noodle</td>\n",
       "    </tr>\n",
       "    <tr>\n",
       "      <th>14</th>\n",
       "      <td>Tea</td>\n",
       "      <td>Yakisoba Noodle</td>\n",
       "    </tr>\n",
       "  </tbody>\n",
       "</table>\n",
       "</div>"
      ],
      "text/plain": [
       "    drink             meal\n",
       "26  Water  Yakisoba Noodle\n",
       "19  Water            Curry\n",
       "17  Water            Curry\n",
       "27  Water            Curry\n",
       "7   Water         Pad Thai\n",
       "2   Water         Pad Thai\n",
       "29  Water         Pad Thai\n",
       "33  Water  Yakisoba Noodle\n",
       "37    Tea  Yakisoba Noodle\n",
       "14    Tea  Yakisoba Noodle"
      ]
     },
     "execution_count": 17,
     "metadata": {},
     "output_type": "execute_result"
    }
   ],
   "source": [
    "n = 40\n",
    "\n",
    "orders = pd.DataFrame({\n",
    "    'drink': np.random.choice(['Tea', 'Water', 'Water'], n),\n",
    "    'meal': np.random.choice(['Curry', 'Yakisoba Noodle', 'Pad Thai'], n),\n",
    "})\n",
    "# .sample will give me n number of random rows\n",
    "orders.sample(10)"
   ]
  },
  {
   "cell_type": "markdown",
   "id": "95357272-4094-4d97-b09c-fc09fa31ec6b",
   "metadata": {},
   "source": [
    "#### `.map`\n",
    "\n",
    "The `.map` method lets us use a dictionary to calculate the total price for an order; then I can save my calculations to a new column named `bill`. Let's do this step-by-step."
   ]
  },
  {
   "cell_type": "code",
   "execution_count": 18,
   "id": "2b7d0141-d356-47eb-801d-ad12fdfea750",
   "metadata": {},
   "outputs": [],
   "source": [
    "# Create a dictionary of prices for drinks and meals.\n",
    "\n",
    "prices = {\n",
    "    'Yakisoba Noodle': 9,\n",
    "    'Curry': 11,\n",
    "    'Pad Thai': 10,\n",
    "    'Tea': 2,\n",
    "    'Water': 0,\n",
    "}"
   ]
  },
  {
   "cell_type": "code",
   "execution_count": 19,
   "id": "7c85716d-a9d7-4d7a-9224-1f274aff8b70",
   "metadata": {},
   "outputs": [],
   "source": [
    "\"\"\"\n",
    "Match the values in the 'drink' and 'meal' columns with the values in the 'prices' dictionary \n",
    "and perform the specified calculation. Save this calculation to a new column named 'bill'.\n",
    "\"\"\"\n",
    "# the dataframe we want to reference\n",
    "# the column we want to reference,\n",
    "# what we want to do with that Series (map)\n",
    "# from what reference are we mapping? (prices)\n",
    "orders['bill'] = orders.drink.map(prices) + orders.meal.map(prices)"
   ]
  },
  {
   "cell_type": "code",
   "execution_count": 20,
   "id": "8aad9259-caeb-4924-9c1c-c0e5d244236f",
   "metadata": {},
   "outputs": [
    {
     "data": {
      "text/html": [
       "<div>\n",
       "<style scoped>\n",
       "    .dataframe tbody tr th:only-of-type {\n",
       "        vertical-align: middle;\n",
       "    }\n",
       "\n",
       "    .dataframe tbody tr th {\n",
       "        vertical-align: top;\n",
       "    }\n",
       "\n",
       "    .dataframe thead th {\n",
       "        text-align: right;\n",
       "    }\n",
       "</style>\n",
       "<table border=\"1\" class=\"dataframe\">\n",
       "  <thead>\n",
       "    <tr style=\"text-align: right;\">\n",
       "      <th></th>\n",
       "      <th>drink</th>\n",
       "      <th>meal</th>\n",
       "      <th>bill</th>\n",
       "    </tr>\n",
       "  </thead>\n",
       "  <tbody>\n",
       "    <tr>\n",
       "      <th>0</th>\n",
       "      <td>Water</td>\n",
       "      <td>Pad Thai</td>\n",
       "      <td>10</td>\n",
       "    </tr>\n",
       "    <tr>\n",
       "      <th>1</th>\n",
       "      <td>Water</td>\n",
       "      <td>Curry</td>\n",
       "      <td>11</td>\n",
       "    </tr>\n",
       "    <tr>\n",
       "      <th>2</th>\n",
       "      <td>Water</td>\n",
       "      <td>Pad Thai</td>\n",
       "      <td>10</td>\n",
       "    </tr>\n",
       "    <tr>\n",
       "      <th>3</th>\n",
       "      <td>Tea</td>\n",
       "      <td>Pad Thai</td>\n",
       "      <td>12</td>\n",
       "    </tr>\n",
       "    <tr>\n",
       "      <th>4</th>\n",
       "      <td>Water</td>\n",
       "      <td>Pad Thai</td>\n",
       "      <td>10</td>\n",
       "    </tr>\n",
       "  </tbody>\n",
       "</table>\n",
       "</div>"
      ],
      "text/plain": [
       "   drink      meal  bill\n",
       "0  Water  Pad Thai    10\n",
       "1  Water     Curry    11\n",
       "2  Water  Pad Thai    10\n",
       "3    Tea  Pad Thai    12\n",
       "4  Water  Pad Thai    10"
      ]
     },
     "execution_count": 20,
     "metadata": {},
     "output_type": "execute_result"
    }
   ],
   "source": [
    "orders.head()"
   ]
  },
  {
   "cell_type": "markdown",
   "id": "9ba6c36a-625c-4f1b-8ea7-788f61499ef0",
   "metadata": {},
   "source": [
    "Let's take a look at how many orders have each combination of meal and drink:"
   ]
  },
  {
   "cell_type": "code",
   "execution_count": 21,
   "id": "1b8cd03c-59aa-4ba3-ba92-ce5b64111668",
   "metadata": {},
   "outputs": [
    {
     "data": {
      "text/html": [
       "<div>\n",
       "<style scoped>\n",
       "    .dataframe tbody tr th:only-of-type {\n",
       "        vertical-align: middle;\n",
       "    }\n",
       "\n",
       "    .dataframe tbody tr th {\n",
       "        vertical-align: top;\n",
       "    }\n",
       "\n",
       "    .dataframe thead th {\n",
       "        text-align: right;\n",
       "    }\n",
       "</style>\n",
       "<table border=\"1\" class=\"dataframe\">\n",
       "  <thead>\n",
       "    <tr style=\"text-align: right;\">\n",
       "      <th>meal</th>\n",
       "      <th>Curry</th>\n",
       "      <th>Pad Thai</th>\n",
       "      <th>Yakisoba Noodle</th>\n",
       "      <th>All</th>\n",
       "    </tr>\n",
       "    <tr>\n",
       "      <th>drink</th>\n",
       "      <th></th>\n",
       "      <th></th>\n",
       "      <th></th>\n",
       "      <th></th>\n",
       "    </tr>\n",
       "  </thead>\n",
       "  <tbody>\n",
       "    <tr>\n",
       "      <th>Tea</th>\n",
       "      <td>2</td>\n",
       "      <td>5</td>\n",
       "      <td>4</td>\n",
       "      <td>11</td>\n",
       "    </tr>\n",
       "    <tr>\n",
       "      <th>Water</th>\n",
       "      <td>9</td>\n",
       "      <td>11</td>\n",
       "      <td>9</td>\n",
       "      <td>29</td>\n",
       "    </tr>\n",
       "    <tr>\n",
       "      <th>All</th>\n",
       "      <td>11</td>\n",
       "      <td>16</td>\n",
       "      <td>13</td>\n",
       "      <td>40</td>\n",
       "    </tr>\n",
       "  </tbody>\n",
       "</table>\n",
       "</div>"
      ],
      "text/plain": [
       "meal   Curry  Pad Thai  Yakisoba Noodle  All\n",
       "drink                                       \n",
       "Tea        2         5                4   11\n",
       "Water      9        11                9   29\n",
       "All       11        16               13   40"
      ]
     },
     "execution_count": 21,
     "metadata": {},
     "output_type": "execute_result"
    }
   ],
   "source": [
    "pd.crosstab(orders.drink, orders.meal, margins=True)"
   ]
  },
  {
   "cell_type": "code",
   "execution_count": 22,
   "id": "d0773945-9a50-4e22-9420-a709cd2cef38",
   "metadata": {},
   "outputs": [
    {
     "data": {
      "text/html": [
       "<div>\n",
       "<style scoped>\n",
       "    .dataframe tbody tr th:only-of-type {\n",
       "        vertical-align: middle;\n",
       "    }\n",
       "\n",
       "    .dataframe tbody tr th {\n",
       "        vertical-align: top;\n",
       "    }\n",
       "\n",
       "    .dataframe thead th {\n",
       "        text-align: right;\n",
       "    }\n",
       "</style>\n",
       "<table border=\"1\" class=\"dataframe\">\n",
       "  <thead>\n",
       "    <tr style=\"text-align: right;\">\n",
       "      <th>meal</th>\n",
       "      <th>Curry</th>\n",
       "      <th>Pad Thai</th>\n",
       "      <th>Yakisoba Noodle</th>\n",
       "    </tr>\n",
       "    <tr>\n",
       "      <th>drink</th>\n",
       "      <th></th>\n",
       "      <th></th>\n",
       "      <th></th>\n",
       "    </tr>\n",
       "  </thead>\n",
       "  <tbody>\n",
       "    <tr>\n",
       "      <th>Tea</th>\n",
       "      <td>13</td>\n",
       "      <td>12</td>\n",
       "      <td>11</td>\n",
       "    </tr>\n",
       "    <tr>\n",
       "      <th>Water</th>\n",
       "      <td>11</td>\n",
       "      <td>10</td>\n",
       "      <td>9</td>\n",
       "    </tr>\n",
       "  </tbody>\n",
       "</table>\n",
       "</div>"
      ],
      "text/plain": [
       "meal   Curry  Pad Thai  Yakisoba Noodle\n",
       "drink                                  \n",
       "Tea       13        12               11\n",
       "Water     11        10                9"
      ]
     },
     "execution_count": 22,
     "metadata": {},
     "output_type": "execute_result"
    }
   ],
   "source": [
    "orders.pivot_table(index='drink', columns='meal', values='bill', aggfunc='mean')"
   ]
  },
  {
   "cell_type": "markdown",
   "id": "16acac64-4620-4ceb-bd6f-e9c631da5960",
   "metadata": {},
   "source": [
    "And let's find out the average bill amount for each combination: "
   ]
  },
  {
   "cell_type": "code",
   "execution_count": null,
   "id": "f397b33f-ee33-4e4a-941e-11dea6d5ed37",
   "metadata": {},
   "outputs": [],
   "source": []
  },
  {
   "cell_type": "markdown",
   "id": "5114f3a7-c906-4af1-9f3a-0c21dbd8a195",
   "metadata": {},
   "source": [
    "It's interesting to note that we could find the same information with a multi-level group by:"
   ]
  },
  {
   "cell_type": "code",
   "execution_count": 23,
   "id": "78f40b81-8b96-4292-a111-874411ff09e8",
   "metadata": {},
   "outputs": [
    {
     "data": {
      "text/plain": [
       "meal             drink\n",
       "Curry            Tea      13\n",
       "                 Water    11\n",
       "Pad Thai         Tea      12\n",
       "                 Water    10\n",
       "Yakisoba Noodle  Tea      11\n",
       "                 Water     9\n",
       "Name: bill, dtype: int64"
      ]
     },
     "execution_count": 23,
     "metadata": {},
     "output_type": "execute_result"
    }
   ],
   "source": [
    "orders.groupby(['meal', 'drink']).bill.agg('max')"
   ]
  },
  {
   "cell_type": "markdown",
   "id": "51cceafd-7445-4ea2-8e49-bc5c075fb129",
   "metadata": {},
   "source": [
    "The choice between group by and a pivot table here is mostly asthetic, and you should use whichever makes more sense to you with the problem at hand. "
   ]
  },
  {
   "cell_type": "markdown",
   "id": "d3646ec8-6142-4cad-931a-254d12fac05c",
   "metadata": {},
   "source": [
    "### Transposing"
   ]
  },
  {
   "cell_type": "code",
   "execution_count": 24,
   "id": "c5d4803c-8def-46e1-ad92-444adc7f64c1",
   "metadata": {},
   "outputs": [
    {
     "data": {
      "text/html": [
       "<div>\n",
       "<style scoped>\n",
       "    .dataframe tbody tr th:only-of-type {\n",
       "        vertical-align: middle;\n",
       "    }\n",
       "\n",
       "    .dataframe tbody tr th {\n",
       "        vertical-align: top;\n",
       "    }\n",
       "\n",
       "    .dataframe thead th {\n",
       "        text-align: right;\n",
       "    }\n",
       "</style>\n",
       "<table border=\"1\" class=\"dataframe\">\n",
       "  <thead>\n",
       "    <tr style=\"text-align: right;\">\n",
       "      <th></th>\n",
       "      <th>0</th>\n",
       "      <th>1</th>\n",
       "      <th>2</th>\n",
       "      <th>3</th>\n",
       "      <th>4</th>\n",
       "      <th>5</th>\n",
       "      <th>6</th>\n",
       "      <th>7</th>\n",
       "      <th>8</th>\n",
       "      <th>9</th>\n",
       "      <th>...</th>\n",
       "      <th>30</th>\n",
       "      <th>31</th>\n",
       "      <th>32</th>\n",
       "      <th>33</th>\n",
       "      <th>34</th>\n",
       "      <th>35</th>\n",
       "      <th>36</th>\n",
       "      <th>37</th>\n",
       "      <th>38</th>\n",
       "      <th>39</th>\n",
       "    </tr>\n",
       "  </thead>\n",
       "  <tbody>\n",
       "    <tr>\n",
       "      <th>drink</th>\n",
       "      <td>Water</td>\n",
       "      <td>Water</td>\n",
       "      <td>Water</td>\n",
       "      <td>Tea</td>\n",
       "      <td>Water</td>\n",
       "      <td>Water</td>\n",
       "      <td>Water</td>\n",
       "      <td>Water</td>\n",
       "      <td>Water</td>\n",
       "      <td>Water</td>\n",
       "      <td>...</td>\n",
       "      <td>Tea</td>\n",
       "      <td>Tea</td>\n",
       "      <td>Tea</td>\n",
       "      <td>Water</td>\n",
       "      <td>Water</td>\n",
       "      <td>Water</td>\n",
       "      <td>Water</td>\n",
       "      <td>Tea</td>\n",
       "      <td>Water</td>\n",
       "      <td>Water</td>\n",
       "    </tr>\n",
       "    <tr>\n",
       "      <th>meal</th>\n",
       "      <td>Pad Thai</td>\n",
       "      <td>Curry</td>\n",
       "      <td>Pad Thai</td>\n",
       "      <td>Pad Thai</td>\n",
       "      <td>Pad Thai</td>\n",
       "      <td>Pad Thai</td>\n",
       "      <td>Yakisoba Noodle</td>\n",
       "      <td>Pad Thai</td>\n",
       "      <td>Pad Thai</td>\n",
       "      <td>Pad Thai</td>\n",
       "      <td>...</td>\n",
       "      <td>Pad Thai</td>\n",
       "      <td>Pad Thai</td>\n",
       "      <td>Pad Thai</td>\n",
       "      <td>Yakisoba Noodle</td>\n",
       "      <td>Curry</td>\n",
       "      <td>Yakisoba Noodle</td>\n",
       "      <td>Yakisoba Noodle</td>\n",
       "      <td>Yakisoba Noodle</td>\n",
       "      <td>Pad Thai</td>\n",
       "      <td>Yakisoba Noodle</td>\n",
       "    </tr>\n",
       "    <tr>\n",
       "      <th>bill</th>\n",
       "      <td>10</td>\n",
       "      <td>11</td>\n",
       "      <td>10</td>\n",
       "      <td>12</td>\n",
       "      <td>10</td>\n",
       "      <td>10</td>\n",
       "      <td>9</td>\n",
       "      <td>10</td>\n",
       "      <td>10</td>\n",
       "      <td>10</td>\n",
       "      <td>...</td>\n",
       "      <td>12</td>\n",
       "      <td>12</td>\n",
       "      <td>12</td>\n",
       "      <td>9</td>\n",
       "      <td>11</td>\n",
       "      <td>9</td>\n",
       "      <td>9</td>\n",
       "      <td>11</td>\n",
       "      <td>10</td>\n",
       "      <td>9</td>\n",
       "    </tr>\n",
       "  </tbody>\n",
       "</table>\n",
       "<p>3 rows × 40 columns</p>\n",
       "</div>"
      ],
      "text/plain": [
       "             0      1         2         3         4         5   \\\n",
       "drink     Water  Water     Water       Tea     Water     Water   \n",
       "meal   Pad Thai  Curry  Pad Thai  Pad Thai  Pad Thai  Pad Thai   \n",
       "bill         10     11        10        12        10        10   \n",
       "\n",
       "                    6         7         8         9   ...        30        31  \\\n",
       "drink            Water     Water     Water     Water  ...       Tea       Tea   \n",
       "meal   Yakisoba Noodle  Pad Thai  Pad Thai  Pad Thai  ...  Pad Thai  Pad Thai   \n",
       "bill                 9        10        10        10  ...        12        12   \n",
       "\n",
       "             32               33     34               35               36  \\\n",
       "drink       Tea            Water  Water            Water            Water   \n",
       "meal   Pad Thai  Yakisoba Noodle  Curry  Yakisoba Noodle  Yakisoba Noodle   \n",
       "bill         12                9     11                9                9   \n",
       "\n",
       "                    37        38               39  \n",
       "drink              Tea     Water            Water  \n",
       "meal   Yakisoba Noodle  Pad Thai  Yakisoba Noodle  \n",
       "bill                11        10                9  \n",
       "\n",
       "[3 rows x 40 columns]"
      ]
     },
     "execution_count": 24,
     "metadata": {},
     "output_type": "execute_result"
    }
   ],
   "source": [
    "orders.T"
   ]
  },
  {
   "cell_type": "code",
   "execution_count": 25,
   "id": "2d0dfeac-cf2f-4107-9614-18090b7dcba3",
   "metadata": {},
   "outputs": [
    {
     "data": {
      "text/html": [
       "<div>\n",
       "<style scoped>\n",
       "    .dataframe tbody tr th:only-of-type {\n",
       "        vertical-align: middle;\n",
       "    }\n",
       "\n",
       "    .dataframe tbody tr th {\n",
       "        vertical-align: top;\n",
       "    }\n",
       "\n",
       "    .dataframe thead th {\n",
       "        text-align: right;\n",
       "    }\n",
       "</style>\n",
       "<table border=\"1\" class=\"dataframe\">\n",
       "  <thead>\n",
       "    <tr style=\"text-align: right;\">\n",
       "      <th></th>\n",
       "      <th>count</th>\n",
       "      <th>mean</th>\n",
       "      <th>std</th>\n",
       "      <th>min</th>\n",
       "      <th>25%</th>\n",
       "      <th>50%</th>\n",
       "      <th>75%</th>\n",
       "      <th>max</th>\n",
       "    </tr>\n",
       "  </thead>\n",
       "  <tbody>\n",
       "    <tr>\n",
       "      <th>math</th>\n",
       "      <td>12.0</td>\n",
       "      <td>82.000000</td>\n",
       "      <td>12.210279</td>\n",
       "      <td>62.0</td>\n",
       "      <td>72.25</td>\n",
       "      <td>81.5</td>\n",
       "      <td>94.25</td>\n",
       "      <td>98.0</td>\n",
       "    </tr>\n",
       "    <tr>\n",
       "      <th>english</th>\n",
       "      <td>12.0</td>\n",
       "      <td>74.666667</td>\n",
       "      <td>8.855746</td>\n",
       "      <td>61.0</td>\n",
       "      <td>70.50</td>\n",
       "      <td>74.5</td>\n",
       "      <td>79.50</td>\n",
       "      <td>92.0</td>\n",
       "    </tr>\n",
       "    <tr>\n",
       "      <th>reading</th>\n",
       "      <td>12.0</td>\n",
       "      <td>83.250000</td>\n",
       "      <td>10.190236</td>\n",
       "      <td>65.0</td>\n",
       "      <td>78.75</td>\n",
       "      <td>84.0</td>\n",
       "      <td>89.50</td>\n",
       "      <td>99.0</td>\n",
       "    </tr>\n",
       "  </tbody>\n",
       "</table>\n",
       "</div>"
      ],
      "text/plain": [
       "         count       mean        std   min    25%   50%    75%   max\n",
       "math      12.0  82.000000  12.210279  62.0  72.25  81.5  94.25  98.0\n",
       "english   12.0  74.666667   8.855746  61.0  70.50  74.5  79.50  92.0\n",
       "reading   12.0  83.250000  10.190236  65.0  78.75  84.0  89.50  99.0"
      ]
     },
     "execution_count": 25,
     "metadata": {},
     "output_type": "execute_result"
    }
   ],
   "source": [
    "df.describe().T"
   ]
  }
 ],
 "metadata": {
  "kernelspec": {
   "display_name": "Python 3 (ipykernel)",
   "language": "python",
   "name": "python3"
  },
  "language_info": {
   "codemirror_mode": {
    "name": "ipython",
    "version": 3
   },
   "file_extension": ".py",
   "mimetype": "text/x-python",
   "name": "python",
   "nbconvert_exporter": "python",
   "pygments_lexer": "ipython3",
   "version": "3.9.12"
  }
 },
 "nbformat": 4,
 "nbformat_minor": 5
}
