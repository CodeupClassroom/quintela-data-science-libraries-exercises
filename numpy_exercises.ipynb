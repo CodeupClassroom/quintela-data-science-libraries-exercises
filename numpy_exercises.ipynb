{
 "cells": [
  {
   "cell_type": "markdown",
   "id": "3f0a2a2e",
   "metadata": {},
   "source": [
    "# Numpy Exercises"
   ]
  },
  {
   "cell_type": "markdown",
   "id": "d065a26f",
   "metadata": {},
   "source": [
    "<hr style=\"border:2px solid gray\">"
   ]
  },
  {
   "cell_type": "markdown",
   "id": "1e228287",
   "metadata": {},
   "source": [
    "Use the following code for the questions below:\n",
    "\n",
    "```a = np.array([4, 10, 12, 23, -2, -1, 0, 0, 0, -6, 3, -7])```\n",
    "\n",
    "1. How many negative numbers are there?\n",
    "\n",
    "2. How many positive numbers are there?\n",
    "\n",
    "3. How many even positive numbers are there?\n",
    "\n",
    "4. If you were to add 3 to each data point, how many positive numbers would there be?\n",
    "\n",
    "5. If you squared each number, what would the new mean and standard deviation be?\n",
    "\n",
    "6. A common statistical operation on a dataset is <b>centering</b>. This means to adjust the data such that the mean of the data is 0. This is done by subtracting the mean from each data point. Center the data set. See this link for more on centering.\n",
    "\n",
    "7. Calculate the z-score for each data point. Recall that the z-score is given by:\n",
    "\n",
    "     Z = (x − μ) / σ\n",
    "\n",
    "8. Copy the setup and exercise directions from More Numpy Practice into your numpy_exercises.py and add your solutions."
   ]
  },
  {
   "cell_type": "markdown",
   "id": "c62af670",
   "metadata": {},
   "source": [
    "<hr style=\"border:1px solid black\">\n",
    "<hr style=\"border:1px solid black\">"
   ]
  },
  {
   "cell_type": "code",
   "execution_count": 1,
   "id": "a37c5aff",
   "metadata": {},
   "outputs": [],
   "source": [
    "import numpy as np"
   ]
  },
  {
   "cell_type": "code",
   "execution_count": 2,
   "id": "6fa9c036",
   "metadata": {},
   "outputs": [],
   "source": [
    "a = np.array([4, 10, 12, 23, -2, -1, 0, 0, 0, -6, 3, -7])"
   ]
  },
  {
   "cell_type": "markdown",
   "id": "d67ad614",
   "metadata": {},
   "source": [
    "<b>#1. How many negative numbers are there?</b>\n",
    "- <b>Answer</b>: 4"
   ]
  },
  {
   "cell_type": "code",
   "execution_count": 45,
   "id": "8b9cb048",
   "metadata": {},
   "outputs": [
    {
     "data": {
      "text/plain": [
       "array([False, False, False, False,  True,  True, False, False, False,\n",
       "        True, False,  True])"
      ]
     },
     "execution_count": 45,
     "metadata": {},
     "output_type": "execute_result"
    }
   ],
   "source": [
    "#let's see how many are negative, how many are positive\n",
    "#True will indicate the number is greater than 0 (positive)\n",
    "#False will indicate the number is less than 0 (negative)\n",
    "a<0"
   ]
  },
  {
   "cell_type": "code",
   "execution_count": 46,
   "id": "6966fe6c",
   "metadata": {},
   "outputs": [
    {
     "data": {
      "text/plain": [
       "array([-2, -1, -6, -7])"
      ]
     },
     "execution_count": 46,
     "metadata": {},
     "output_type": "execute_result"
    }
   ],
   "source": [
    "#now we can mask this list to return only positive numbers\n",
    "a[a<0]"
   ]
  },
  {
   "cell_type": "code",
   "execution_count": 47,
   "id": "098a0f0b",
   "metadata": {},
   "outputs": [
    {
     "data": {
      "text/plain": [
       "4"
      ]
     },
     "execution_count": 47,
     "metadata": {},
     "output_type": "execute_result"
    }
   ],
   "source": [
    "#and get the shape (quantity)\n",
    "a[a<0].shape[0] "
   ]
  },
  {
   "cell_type": "code",
   "execution_count": 48,
   "id": "4c509812",
   "metadata": {},
   "outputs": [
    {
     "data": {
      "text/plain": [
       "4"
      ]
     },
     "execution_count": 48,
     "metadata": {},
     "output_type": "execute_result"
    }
   ],
   "source": [
    "#another option\n",
    "len(a[a<0])"
   ]
  },
  {
   "cell_type": "markdown",
   "id": "eec7bf2d",
   "metadata": {},
   "source": [
    "<hr style=\"border:0.5px solid grey\">"
   ]
  },
  {
   "cell_type": "markdown",
   "id": "579a4c86",
   "metadata": {},
   "source": [
    "<b>#2. How many positive numbers are there?</b>\n",
    "- <b>Answer</b>: 5"
   ]
  },
  {
   "cell_type": "code",
   "execution_count": 49,
   "id": "5575ee39",
   "metadata": {},
   "outputs": [
    {
     "data": {
      "text/plain": [
       "array([ True,  True,  True,  True, False, False, False, False, False,\n",
       "       False,  True, False])"
      ]
     },
     "execution_count": 49,
     "metadata": {},
     "output_type": "execute_result"
    }
   ],
   "source": [
    "#if a is less than 0, we will get a true\n",
    "a>0"
   ]
  },
  {
   "cell_type": "code",
   "execution_count": 50,
   "id": "b3dd1b2d",
   "metadata": {},
   "outputs": [
    {
     "data": {
      "text/plain": [
       "array([ 4, 10, 12, 23,  3])"
      ]
     },
     "execution_count": 50,
     "metadata": {},
     "output_type": "execute_result"
    }
   ],
   "source": [
    "#mask these responses to only get negatives\n",
    "a[a>0]"
   ]
  },
  {
   "cell_type": "code",
   "execution_count": 52,
   "id": "6d58eba7",
   "metadata": {},
   "outputs": [
    {
     "data": {
      "text/plain": [
       "5"
      ]
     },
     "execution_count": 52,
     "metadata": {},
     "output_type": "execute_result"
    }
   ],
   "source": [
    "#now we can get a count\n",
    "len(a[a>0])"
   ]
  },
  {
   "cell_type": "code",
   "execution_count": 53,
   "id": "3bc7ce73",
   "metadata": {},
   "outputs": [
    {
     "data": {
      "text/plain": [
       "5"
      ]
     },
     "execution_count": 53,
     "metadata": {},
     "output_type": "execute_result"
    }
   ],
   "source": [
    "#another option\n",
    "a[a>0].shape[0]"
   ]
  },
  {
   "cell_type": "markdown",
   "id": "8fe1a2cb",
   "metadata": {},
   "source": [
    "<hr style=\"border:0.5px solid grey\">"
   ]
  },
  {
   "cell_type": "markdown",
   "id": "ecd97c3d",
   "metadata": {},
   "source": [
    "<b>#3. How many even positive numbers are there?</b>\n",
    "- <b>Answer</b>: 3"
   ]
  },
  {
   "cell_type": "code",
   "execution_count": 11,
   "id": "68f9e7df",
   "metadata": {},
   "outputs": [
    {
     "data": {
      "text/plain": [
       "array([ 4, 10, 12, 23, -2, -1,  0,  0,  0, -6,  3, -7])"
      ]
     },
     "execution_count": 11,
     "metadata": {},
     "output_type": "execute_result"
    }
   ],
   "source": [
    "#take a look at the original array\n",
    "a"
   ]
  },
  {
   "cell_type": "code",
   "execution_count": 54,
   "id": "97b5b786",
   "metadata": {},
   "outputs": [
    {
     "data": {
      "text/plain": [
       "array([ 4, 10, 12, -2,  0,  0,  0, -6])"
      ]
     },
     "execution_count": 54,
     "metadata": {},
     "output_type": "execute_result"
    }
   ],
   "source": [
    "#let's get all the evens\n",
    "even = a[a % 2 ==0]\n",
    "even"
   ]
  },
  {
   "cell_type": "code",
   "execution_count": 14,
   "id": "3b1d1c9c",
   "metadata": {},
   "outputs": [
    {
     "data": {
      "text/plain": [
       "8"
      ]
     },
     "execution_count": 14,
     "metadata": {},
     "output_type": "execute_result"
    }
   ],
   "source": [
    "#how many even numbers do we have in our original list\n",
    "even.shape[0]"
   ]
  },
  {
   "cell_type": "code",
   "execution_count": 15,
   "id": "ec8be0a3",
   "metadata": {},
   "outputs": [
    {
     "data": {
      "text/plain": [
       "array([ 4, 10, 12])"
      ]
     },
     "execution_count": 15,
     "metadata": {},
     "output_type": "execute_result"
    }
   ],
   "source": [
    "#now, let's get all the positive numbers from our evens list\n",
    "even[even>0]"
   ]
  },
  {
   "cell_type": "code",
   "execution_count": 16,
   "id": "b2e72fc3",
   "metadata": {},
   "outputs": [
    {
     "data": {
      "text/plain": [
       "3"
      ]
     },
     "execution_count": 16,
     "metadata": {},
     "output_type": "execute_result"
    }
   ],
   "source": [
    "#count on that to answer question\n",
    "len(even[even>0])"
   ]
  },
  {
   "cell_type": "code",
   "execution_count": 56,
   "id": "dc6bc12a",
   "metadata": {},
   "outputs": [
    {
     "data": {
      "text/plain": [
       "3"
      ]
     },
     "execution_count": 56,
     "metadata": {},
     "output_type": "execute_result"
    }
   ],
   "source": [
    "#Jon Style!\n",
    "how_many = a[(a>0) & (a%2==0)]\n",
    "len(how_many)"
   ]
  },
  {
   "cell_type": "markdown",
   "id": "a8f60e06",
   "metadata": {},
   "source": [
    "<hr style=\"border:0.5px solid grey\">"
   ]
  },
  {
   "cell_type": "markdown",
   "id": "637a59ab",
   "metadata": {},
   "source": [
    "<b>#4. If you were to add 3 to each data point, how many positive numbers would there be?</b>\n",
    "- <b>Answer</b>: 10"
   ]
  },
  {
   "cell_type": "code",
   "execution_count": 57,
   "id": "d136f19c",
   "metadata": {},
   "outputs": [
    {
     "data": {
      "text/plain": [
       "array([ 7, 13, 15, 26,  1,  2,  3,  3,  3, -3,  6, -4])"
      ]
     },
     "execution_count": 57,
     "metadata": {},
     "output_type": "execute_result"
    }
   ],
   "source": [
    "#add 3 to every number in the array\n",
    "add_three = a+3\n",
    "\n",
    "#take a look\n",
    "add_three"
   ]
  },
  {
   "cell_type": "code",
   "execution_count": 18,
   "id": "7c5ccc26",
   "metadata": {},
   "outputs": [
    {
     "data": {
      "text/plain": [
       "12"
      ]
     },
     "execution_count": 18,
     "metadata": {},
     "output_type": "execute_result"
    }
   ],
   "source": [
    "#that leaves us with 12 numbers still\n",
    "add_three.shape[0]"
   ]
  },
  {
   "cell_type": "code",
   "execution_count": 20,
   "id": "f7c202e8",
   "metadata": {},
   "outputs": [
    {
     "data": {
      "text/plain": [
       "10"
      ]
     },
     "execution_count": 20,
     "metadata": {},
     "output_type": "execute_result"
    }
   ],
   "source": [
    "#now, how many positive numbers are there\n",
    "len(a[(a+3)>0])"
   ]
  },
  {
   "cell_type": "code",
   "execution_count": null,
   "id": "128e34da",
   "metadata": {},
   "outputs": [],
   "source": [
    "#other way\n"
   ]
  },
  {
   "cell_type": "markdown",
   "id": "ca89e85c",
   "metadata": {},
   "source": [
    "<hr style=\"border:0.5px solid grey\">"
   ]
  },
  {
   "cell_type": "markdown",
   "id": "cb99d7cb",
   "metadata": {},
   "source": [
    "<b>#5. If you squared each number, what would the new mean and standard deviation be?</b>\n",
    "- <b>Answers</b>:\n",
    "    - Mean: 74\n",
    "    - Standard Deviation: 144.02"
   ]
  },
  {
   "cell_type": "code",
   "execution_count": 21,
   "id": "a673cefd",
   "metadata": {},
   "outputs": [],
   "source": [
    "#first, let's square our original array\n",
    "a_squared = a ** 2"
   ]
  },
  {
   "cell_type": "code",
   "execution_count": 22,
   "id": "19702736",
   "metadata": {},
   "outputs": [
    {
     "data": {
      "text/plain": [
       "array([ 16, 100, 144, 529,   4,   1,   0,   0,   0,  36,   9,  49])"
      ]
     },
     "execution_count": 22,
     "metadata": {},
     "output_type": "execute_result"
    }
   ],
   "source": [
    "#take a look\n",
    "a_squared"
   ]
  },
  {
   "cell_type": "code",
   "execution_count": 23,
   "id": "05d525ed",
   "metadata": {},
   "outputs": [
    {
     "data": {
      "text/plain": [
       "74.0"
      ]
     },
     "execution_count": 23,
     "metadata": {},
     "output_type": "execute_result"
    }
   ],
   "source": [
    "#what is the mean of our new squared array\n",
    "a_squared.mean()"
   ]
  },
  {
   "cell_type": "code",
   "execution_count": 24,
   "id": "6b13fac2",
   "metadata": {},
   "outputs": [
    {
     "data": {
      "text/plain": [
       "144.0243035046516"
      ]
     },
     "execution_count": 24,
     "metadata": {},
     "output_type": "execute_result"
    }
   ],
   "source": [
    "#what is the stdev of our new squared array\n",
    "a_squared.std()"
   ]
  },
  {
   "cell_type": "code",
   "execution_count": 60,
   "id": "a2623e12",
   "metadata": {},
   "outputs": [
    {
     "data": {
      "text/plain": [
       "(74.0, 144.0243035046516)"
      ]
     },
     "execution_count": 60,
     "metadata": {},
     "output_type": "execute_result"
    }
   ],
   "source": [
    "#Annie Style!\n",
    "np.mean(a**2), np.std(a**2)"
   ]
  },
  {
   "cell_type": "markdown",
   "id": "bca61c82",
   "metadata": {},
   "source": [
    "<hr style=\"border:0.5px solid grey\">"
   ]
  },
  {
   "cell_type": "markdown",
   "id": "137fd02e",
   "metadata": {},
   "source": [
    "<b>#6. A common statistical operation on a dataset is <b>centering</b>. This means to adjust the data such that the mean of the data is 0. This is done by subtracting the mean from each data point. Center the data set. See this link for more on centering."
   ]
  },
  {
   "cell_type": "code",
   "execution_count": 25,
   "id": "122c36fd",
   "metadata": {
    "scrolled": true
   },
   "outputs": [
    {
     "data": {
      "text/plain": [
       "array([ 4, 10, 12, 23, -2, -1,  0,  0,  0, -6,  3, -7])"
      ]
     },
     "execution_count": 25,
     "metadata": {},
     "output_type": "execute_result"
    }
   ],
   "source": [
    "#remember what 'a' looks like\n",
    "a"
   ]
  },
  {
   "cell_type": "code",
   "execution_count": 32,
   "id": "b7e7571a",
   "metadata": {},
   "outputs": [
    {
     "data": {
      "text/plain": [
       "3.0"
      ]
     },
     "execution_count": 32,
     "metadata": {},
     "output_type": "execute_result"
    }
   ],
   "source": [
    "#what is the actual mean of our original array\n",
    "a.mean()"
   ]
  },
  {
   "cell_type": "code",
   "execution_count": 34,
   "id": "1565e001",
   "metadata": {},
   "outputs": [],
   "source": [
    "#assign variable to the array minus the mean of the array\n",
    "centered_a = a - a.mean()"
   ]
  },
  {
   "cell_type": "code",
   "execution_count": 35,
   "id": "1248fc95",
   "metadata": {},
   "outputs": [
    {
     "data": {
      "text/plain": [
       "array([  1.,   7.,   9.,  20.,  -5.,  -4.,  -3.,  -3.,  -3.,  -9.,   0.,\n",
       "       -10.])"
      ]
     },
     "execution_count": 35,
     "metadata": {},
     "output_type": "execute_result"
    }
   ],
   "source": [
    "#take a look\n",
    "centered_a"
   ]
  },
  {
   "cell_type": "code",
   "execution_count": 36,
   "id": "bb226078",
   "metadata": {},
   "outputs": [
    {
     "data": {
      "text/plain": [
       "0.0"
      ]
     },
     "execution_count": 36,
     "metadata": {},
     "output_type": "execute_result"
    }
   ],
   "source": [
    "#double check that we are at 0 (centered)\n",
    "centered_a.mean()"
   ]
  },
  {
   "cell_type": "markdown",
   "id": "108f28f5",
   "metadata": {},
   "source": [
    "<hr style=\"border:0.5px solid grey\">"
   ]
  },
  {
   "cell_type": "markdown",
   "id": "1a1906a5",
   "metadata": {},
   "source": [
    "<b>#7. Calculate the z-score for each data point. Recall that the z-score is given by:\n",
    "\n",
    "     Z = (x − μ) / σ"
   ]
  },
  {
   "cell_type": "code",
   "execution_count": 61,
   "id": "46fe9935",
   "metadata": {},
   "outputs": [],
   "source": [
    "#long way\n",
    "z = (a - a.mean())/a.std()"
   ]
  },
  {
   "cell_type": "code",
   "execution_count": 42,
   "id": "c633d832",
   "metadata": {},
   "outputs": [
    {
     "data": {
      "text/plain": [
       "array([ 0.12403473,  0.86824314,  1.11631261,  2.48069469, -0.62017367,\n",
       "       -0.49613894, -0.3721042 , -0.3721042 , -0.3721042 , -1.11631261,\n",
       "        0.        , -1.24034735])"
      ]
     },
     "execution_count": 42,
     "metadata": {},
     "output_type": "execute_result"
    }
   ],
   "source": [
    "#look at it\n",
    "z"
   ]
  },
  {
   "cell_type": "code",
   "execution_count": 43,
   "id": "84438295",
   "metadata": {},
   "outputs": [],
   "source": [
    "#or we can realize that 'a-a.mean' is the same as centered_a\n",
    "z_scores = centered_a / a.std()"
   ]
  },
  {
   "cell_type": "code",
   "execution_count": 44,
   "id": "ec8be2b9",
   "metadata": {},
   "outputs": [
    {
     "data": {
      "text/plain": [
       "array([ 0.12403473,  0.86824314,  1.11631261,  2.48069469, -0.62017367,\n",
       "       -0.49613894, -0.3721042 , -0.3721042 , -0.3721042 , -1.11631261,\n",
       "        0.        , -1.24034735])"
      ]
     },
     "execution_count": 44,
     "metadata": {},
     "output_type": "execute_result"
    }
   ],
   "source": [
    "#take a look\n",
    "z_scores"
   ]
  },
  {
   "cell_type": "code",
   "execution_count": 64,
   "id": "4e99dcb5",
   "metadata": {},
   "outputs": [],
   "source": [
    "#using an import\n",
    "import scipy.stats as stats"
   ]
  },
  {
   "cell_type": "code",
   "execution_count": 65,
   "id": "3d61c69c",
   "metadata": {},
   "outputs": [
    {
     "data": {
      "text/plain": [
       "array([ 0.12403473,  0.86824314,  1.11631261,  2.48069469, -0.62017367,\n",
       "       -0.49613894, -0.3721042 , -0.3721042 , -0.3721042 , -1.11631261,\n",
       "        0.        , -1.24034735])"
      ]
     },
     "execution_count": 65,
     "metadata": {},
     "output_type": "execute_result"
    }
   ],
   "source": [
    "#using import scipy to get the zscore\n",
    "stats.zscore(a)"
   ]
  },
  {
   "cell_type": "markdown",
   "id": "4a5c7114",
   "metadata": {},
   "source": [
    "<hr style=\"border:0.5px solid grey\">"
   ]
  },
  {
   "cell_type": "markdown",
   "id": "712c9c78",
   "metadata": {},
   "source": [
    "<b>#8. Copy the setup and exercise directions from More Numpy Practice into your numpy_exercises.py and add your solutions."
   ]
  },
  {
   "cell_type": "code",
   "execution_count": null,
   "id": "e05973a5",
   "metadata": {},
   "outputs": [],
   "source": []
  }
 ],
 "metadata": {
  "kernelspec": {
   "display_name": "Python 3 (ipykernel)",
   "language": "python",
   "name": "python3"
  },
  "language_info": {
   "codemirror_mode": {
    "name": "ipython",
    "version": 3
   },
   "file_extension": ".py",
   "mimetype": "text/x-python",
   "name": "python",
   "nbconvert_exporter": "python",
   "pygments_lexer": "ipython3",
   "version": "3.9.13"
  }
 },
 "nbformat": 4,
 "nbformat_minor": 5
}
